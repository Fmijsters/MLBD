{
 "cells": [
  {
   "cell_type": "markdown",
   "metadata": {},
   "source": [
    "# Content-based recommendations\n",
    "432601@student.saxion.nl\n",
    "Fabian Mijsters"
   ]
  },
  {
   "cell_type": "markdown",
   "metadata": {},
   "source": [
    "## Importing usefull libraries and loading csv data into a pandas dataframe"
   ]
  },
  {
   "cell_type": "code",
   "execution_count": 39,
   "metadata": {},
   "outputs": [
    {
     "data": {
      "text/html": [
       "<div>\n",
       "<style scoped>\n",
       "    .dataframe tbody tr th:only-of-type {\n",
       "        vertical-align: middle;\n",
       "    }\n",
       "\n",
       "    .dataframe tbody tr th {\n",
       "        vertical-align: top;\n",
       "    }\n",
       "\n",
       "    .dataframe thead th {\n",
       "        text-align: right;\n",
       "    }\n",
       "</style>\n",
       "<table border=\"1\" class=\"dataframe\">\n",
       "  <thead>\n",
       "    <tr style=\"text-align: right;\">\n",
       "      <th></th>\n",
       "      <th>Actors</th>\n",
       "      <th>Awards</th>\n",
       "      <th>Country</th>\n",
       "      <th>Director</th>\n",
       "      <th>Genre</th>\n",
       "      <th>Language</th>\n",
       "      <th>Plot</th>\n",
       "      <th>Production</th>\n",
       "      <th>Rated</th>\n",
       "      <th>Released</th>\n",
       "      <th>Runtime</th>\n",
       "      <th>Title</th>\n",
       "      <th>Writer</th>\n",
       "      <th>imdbId</th>\n",
       "      <th>imdbRating</th>\n",
       "    </tr>\n",
       "  </thead>\n",
       "  <tbody>\n",
       "    <tr>\n",
       "      <th>0</th>\n",
       "      <td>Tom Hanks, Tim Allen, Don Rickles, Jim Varney</td>\n",
       "      <td>Nominated for 3 Oscars. Another 23 wins &amp; 18 n...</td>\n",
       "      <td>USA</td>\n",
       "      <td>John Lasseter</td>\n",
       "      <td>Animation, Adventure, Comedy</td>\n",
       "      <td>English</td>\n",
       "      <td>A cowboy doll is profoundly threatened and jea...</td>\n",
       "      <td>Buena Vista</td>\n",
       "      <td>G</td>\n",
       "      <td>22 Nov 1995</td>\n",
       "      <td>81 min</td>\n",
       "      <td>Toy Story</td>\n",
       "      <td>John Lasseter (original story by), Pete Docter...</td>\n",
       "      <td>114709</td>\n",
       "      <td>8.3</td>\n",
       "    </tr>\n",
       "    <tr>\n",
       "      <th>1</th>\n",
       "      <td>Robin Williams, Jonathan Hyde, Kirsten Dunst, ...</td>\n",
       "      <td>4 wins &amp; 9 nominations.</td>\n",
       "      <td>USA</td>\n",
       "      <td>Joe Johnston</td>\n",
       "      <td>Action, Adventure, Family</td>\n",
       "      <td>English, French</td>\n",
       "      <td>When two kids find and play a magical board ga...</td>\n",
       "      <td>Sony Pictures Home Entertainment</td>\n",
       "      <td>PG</td>\n",
       "      <td>15 Dec 1995</td>\n",
       "      <td>104 min</td>\n",
       "      <td>Jumanji</td>\n",
       "      <td>Jonathan Hensleigh (screenplay), Greg Taylor (...</td>\n",
       "      <td>113497</td>\n",
       "      <td>6.9</td>\n",
       "    </tr>\n",
       "    <tr>\n",
       "      <th>2</th>\n",
       "      <td>Walter Matthau, Jack Lemmon, Sophia Loren, Ann...</td>\n",
       "      <td>2 wins &amp; 2 nominations.</td>\n",
       "      <td>USA</td>\n",
       "      <td>Howard Deutch</td>\n",
       "      <td>Comedy, Romance</td>\n",
       "      <td>English</td>\n",
       "      <td>John and Max resolve to save their beloved bai...</td>\n",
       "      <td>Warner Home Video</td>\n",
       "      <td>PG-13</td>\n",
       "      <td>22 Dec 1995</td>\n",
       "      <td>101 min</td>\n",
       "      <td>Grumpier Old Men</td>\n",
       "      <td>Mark Steven Johnson (characters), Mark Steven ...</td>\n",
       "      <td>113228</td>\n",
       "      <td>6.6</td>\n",
       "    </tr>\n",
       "    <tr>\n",
       "      <th>3</th>\n",
       "      <td>Whitney Houston, Angela Bassett, Loretta Devin...</td>\n",
       "      <td>8 wins &amp; 8 nominations.</td>\n",
       "      <td>USA</td>\n",
       "      <td>Forest Whitaker</td>\n",
       "      <td>Comedy, Drama, Romance</td>\n",
       "      <td>English</td>\n",
       "      <td>Based on Terry McMillan's novel, this film fol...</td>\n",
       "      <td>Twentieth Century Fox Home Entertainment</td>\n",
       "      <td>R</td>\n",
       "      <td>22 Dec 1995</td>\n",
       "      <td>124 min</td>\n",
       "      <td>Waiting to Exhale</td>\n",
       "      <td>Terry McMillan (novel), Terry McMillan (screen...</td>\n",
       "      <td>114885</td>\n",
       "      <td>5.7</td>\n",
       "    </tr>\n",
       "    <tr>\n",
       "      <th>4</th>\n",
       "      <td>Steve Martin, Diane Keaton, Martin Short, Kimb...</td>\n",
       "      <td>Nominated for 1 Golden Globe. Another 1 win &amp; ...</td>\n",
       "      <td>USA</td>\n",
       "      <td>Charles Shyer</td>\n",
       "      <td>Comedy, Family, Romance</td>\n",
       "      <td>English</td>\n",
       "      <td>George Banks must deal not only with the pregn...</td>\n",
       "      <td>Disney</td>\n",
       "      <td>PG</td>\n",
       "      <td>08 Dec 1995</td>\n",
       "      <td>106 min</td>\n",
       "      <td>Father of the Bride Part II</td>\n",
       "      <td>Albert Hackett (screenplay), Frances Goodrich ...</td>\n",
       "      <td>113041</td>\n",
       "      <td>5.9</td>\n",
       "    </tr>\n",
       "    <tr>\n",
       "      <th>5</th>\n",
       "      <td>Al Pacino, Robert De Niro, Val Kilmer, Jon Voight</td>\n",
       "      <td>12 nominations.</td>\n",
       "      <td>USA</td>\n",
       "      <td>Michael Mann</td>\n",
       "      <td>Action, Crime, Drama</td>\n",
       "      <td>English, Spanish</td>\n",
       "      <td>A group of professional bank robbers start to ...</td>\n",
       "      <td>Warner Bros.</td>\n",
       "      <td>R</td>\n",
       "      <td>15 Dec 1995</td>\n",
       "      <td>170 min</td>\n",
       "      <td>Heat</td>\n",
       "      <td>Michael Mann</td>\n",
       "      <td>113277</td>\n",
       "      <td>8.2</td>\n",
       "    </tr>\n",
       "    <tr>\n",
       "      <th>6</th>\n",
       "      <td>Harrison Ford, Julia Ormond, Greg Kinnear, Nan...</td>\n",
       "      <td>Nominated for 2 Oscars. Another 2 wins &amp; 4 nom...</td>\n",
       "      <td>Germany, USA</td>\n",
       "      <td>Sydney Pollack</td>\n",
       "      <td>Comedy, Drama</td>\n",
       "      <td>English, French</td>\n",
       "      <td>An ugly duckling having undergone a remarkable...</td>\n",
       "      <td>Paramount</td>\n",
       "      <td>PG</td>\n",
       "      <td>15 Dec 1995</td>\n",
       "      <td>127 min</td>\n",
       "      <td>Sabrina</td>\n",
       "      <td>Samuel A. Taylor (play), Billy Wilder (earlier...</td>\n",
       "      <td>114319</td>\n",
       "      <td>6.3</td>\n",
       "    </tr>\n",
       "    <tr>\n",
       "      <th>7</th>\n",
       "      <td>Jonathan Taylor Thomas, Brad Renfro, Eric Schw...</td>\n",
       "      <td>1 win &amp; 5 nominations.</td>\n",
       "      <td>USA</td>\n",
       "      <td>Peter Hewitt</td>\n",
       "      <td>Adventure, Comedy, Drama</td>\n",
       "      <td>English</td>\n",
       "      <td>Tom and Huck witness Injun Joe's killing of Do...</td>\n",
       "      <td>Buena Vista</td>\n",
       "      <td>PG</td>\n",
       "      <td>22 Dec 1995</td>\n",
       "      <td>97 min</td>\n",
       "      <td>Tom and Huck</td>\n",
       "      <td>Mark Twain (novel), Stephen Sommers (screenpla...</td>\n",
       "      <td>112302</td>\n",
       "      <td>5.6</td>\n",
       "    </tr>\n",
       "    <tr>\n",
       "      <th>8</th>\n",
       "      <td>Jean-Claude Van Damme, Powers Boothe, Raymond ...</td>\n",
       "      <td>N/A</td>\n",
       "      <td>USA</td>\n",
       "      <td>Peter Hyams</td>\n",
       "      <td>Action, Crime, Thriller</td>\n",
       "      <td>English</td>\n",
       "      <td>A former fireman takes on a group of terrorist...</td>\n",
       "      <td>MCA Universal Home Video</td>\n",
       "      <td>R</td>\n",
       "      <td>22 Dec 1995</td>\n",
       "      <td>111 min</td>\n",
       "      <td>Sudden Death</td>\n",
       "      <td>Karen Elise Baldwin (story), Gene Quintano (sc...</td>\n",
       "      <td>114576</td>\n",
       "      <td>5.7</td>\n",
       "    </tr>\n",
       "    <tr>\n",
       "      <th>9</th>\n",
       "      <td>Pierce Brosnan, Sean Bean, Izabella Scorupco, ...</td>\n",
       "      <td>Nominated for 2 BAFTA Film Awards. Another 2 w...</td>\n",
       "      <td>UK, USA</td>\n",
       "      <td>Martin Campbell</td>\n",
       "      <td>Action, Adventure, Thriller</td>\n",
       "      <td>English, Russian, Spanish</td>\n",
       "      <td>James Bond teams up with the lone survivor of ...</td>\n",
       "      <td>MGM/UA</td>\n",
       "      <td>PG-13</td>\n",
       "      <td>17 Nov 1995</td>\n",
       "      <td>130 min</td>\n",
       "      <td>GoldenEye</td>\n",
       "      <td>Ian Fleming (characters), Michael France (stor...</td>\n",
       "      <td>113189</td>\n",
       "      <td>7.2</td>\n",
       "    </tr>\n",
       "  </tbody>\n",
       "</table>\n",
       "</div>"
      ],
      "text/plain": [
       "                                              Actors  \\\n",
       "0      Tom Hanks, Tim Allen, Don Rickles, Jim Varney   \n",
       "1  Robin Williams, Jonathan Hyde, Kirsten Dunst, ...   \n",
       "2  Walter Matthau, Jack Lemmon, Sophia Loren, Ann...   \n",
       "3  Whitney Houston, Angela Bassett, Loretta Devin...   \n",
       "4  Steve Martin, Diane Keaton, Martin Short, Kimb...   \n",
       "5  Al Pacino, Robert De Niro, Val Kilmer, Jon Voight   \n",
       "6  Harrison Ford, Julia Ormond, Greg Kinnear, Nan...   \n",
       "7  Jonathan Taylor Thomas, Brad Renfro, Eric Schw...   \n",
       "8  Jean-Claude Van Damme, Powers Boothe, Raymond ...   \n",
       "9  Pierce Brosnan, Sean Bean, Izabella Scorupco, ...   \n",
       "\n",
       "                                              Awards       Country  \\\n",
       "0  Nominated for 3 Oscars. Another 23 wins & 18 n...           USA   \n",
       "1                            4 wins & 9 nominations.           USA   \n",
       "2                            2 wins & 2 nominations.           USA   \n",
       "3                            8 wins & 8 nominations.           USA   \n",
       "4  Nominated for 1 Golden Globe. Another 1 win & ...           USA   \n",
       "5                                    12 nominations.           USA   \n",
       "6  Nominated for 2 Oscars. Another 2 wins & 4 nom...  Germany, USA   \n",
       "7                             1 win & 5 nominations.           USA   \n",
       "8                                                N/A           USA   \n",
       "9  Nominated for 2 BAFTA Film Awards. Another 2 w...       UK, USA   \n",
       "\n",
       "          Director                         Genre                   Language  \\\n",
       "0    John Lasseter  Animation, Adventure, Comedy                    English   \n",
       "1     Joe Johnston     Action, Adventure, Family            English, French   \n",
       "2    Howard Deutch               Comedy, Romance                    English   \n",
       "3  Forest Whitaker        Comedy, Drama, Romance                    English   \n",
       "4    Charles Shyer       Comedy, Family, Romance                    English   \n",
       "5     Michael Mann          Action, Crime, Drama           English, Spanish   \n",
       "6   Sydney Pollack                 Comedy, Drama            English, French   \n",
       "7     Peter Hewitt      Adventure, Comedy, Drama                    English   \n",
       "8      Peter Hyams       Action, Crime, Thriller                    English   \n",
       "9  Martin Campbell   Action, Adventure, Thriller  English, Russian, Spanish   \n",
       "\n",
       "                                                Plot  \\\n",
       "0  A cowboy doll is profoundly threatened and jea...   \n",
       "1  When two kids find and play a magical board ga...   \n",
       "2  John and Max resolve to save their beloved bai...   \n",
       "3  Based on Terry McMillan's novel, this film fol...   \n",
       "4  George Banks must deal not only with the pregn...   \n",
       "5  A group of professional bank robbers start to ...   \n",
       "6  An ugly duckling having undergone a remarkable...   \n",
       "7  Tom and Huck witness Injun Joe's killing of Do...   \n",
       "8  A former fireman takes on a group of terrorist...   \n",
       "9  James Bond teams up with the lone survivor of ...   \n",
       "\n",
       "                                 Production  Rated     Released  Runtime  \\\n",
       "0                               Buena Vista      G  22 Nov 1995   81 min   \n",
       "1          Sony Pictures Home Entertainment     PG  15 Dec 1995  104 min   \n",
       "2                         Warner Home Video  PG-13  22 Dec 1995  101 min   \n",
       "3  Twentieth Century Fox Home Entertainment      R  22 Dec 1995  124 min   \n",
       "4                                    Disney     PG  08 Dec 1995  106 min   \n",
       "5                              Warner Bros.      R  15 Dec 1995  170 min   \n",
       "6                                 Paramount     PG  15 Dec 1995  127 min   \n",
       "7                               Buena Vista     PG  22 Dec 1995   97 min   \n",
       "8                  MCA Universal Home Video      R  22 Dec 1995  111 min   \n",
       "9                                    MGM/UA  PG-13  17 Nov 1995  130 min   \n",
       "\n",
       "                         Title  \\\n",
       "0                    Toy Story   \n",
       "1                      Jumanji   \n",
       "2             Grumpier Old Men   \n",
       "3            Waiting to Exhale   \n",
       "4  Father of the Bride Part II   \n",
       "5                         Heat   \n",
       "6                      Sabrina   \n",
       "7                 Tom and Huck   \n",
       "8                 Sudden Death   \n",
       "9                    GoldenEye   \n",
       "\n",
       "                                              Writer  imdbId imdbRating  \n",
       "0  John Lasseter (original story by), Pete Docter...  114709        8.3  \n",
       "1  Jonathan Hensleigh (screenplay), Greg Taylor (...  113497        6.9  \n",
       "2  Mark Steven Johnson (characters), Mark Steven ...  113228        6.6  \n",
       "3  Terry McMillan (novel), Terry McMillan (screen...  114885        5.7  \n",
       "4  Albert Hackett (screenplay), Frances Goodrich ...  113041        5.9  \n",
       "5                                       Michael Mann  113277        8.2  \n",
       "6  Samuel A. Taylor (play), Billy Wilder (earlier...  114319        6.3  \n",
       "7  Mark Twain (novel), Stephen Sommers (screenpla...  112302        5.6  \n",
       "8  Karen Elise Baldwin (story), Gene Quintano (sc...  114576        5.7  \n",
       "9  Ian Fleming (characters), Michael France (stor...  113189        7.2  "
      ]
     },
     "execution_count": 39,
     "metadata": {},
     "output_type": "execute_result"
    }
   ],
   "source": [
    "from IPython.core.display import HTML\n",
    "from movie_display import movie_display\n",
    "from IPython.display import display\n",
    "from IPython.display import clear_output\n",
    "from ipywidgets import Output\n",
    "\n",
    "import pandas as pd\n",
    "from sklearn.metrics.pairwise import cosine_similarity\n",
    "import re\n",
    "import numpy as np\n",
    "import ipywidgets as widgets\n",
    "\n",
    "\n",
    "movies_filename = 'dataset/movies.csv'\n",
    "ratings_filename = 'dataset/ratings.csv'\n",
    "links_filename = 'dataset/links.csv'\n",
    "tags_filename = 'dataset/tags.csv'\n",
    "imdbdata_filename = 'dataset/imdbdata.json'\n",
    "\n",
    "movies_dataset = pd.read_csv(movies_filename)\n",
    "ratings_dataset = pd.read_csv(ratings_filename)\n",
    "links_dataset = pd.read_csv(links_filename)\n",
    "tags_dataset = pd.read_csv(tags_filename)\n",
    "imdb_dataset = pd.read_json(imdbdata_filename)\n",
    "\n",
    "movie_profile = imdb_dataset.drop(['Poster','imdbVotes','Year'],axis=1)\n",
    "movie_profile.head(10)"
   ]
  },
  {
   "cell_type": "markdown",
   "metadata": {},
   "source": [
    "## Stemming and removing stopwords\n",
    "\n",
    "Stop words are words that generally occur a lot in a sentence e.g. the a an in. By removing these words a sentence is created that has a higher descriptive value per word. \n",
    "\n",
    "Stemming is reducing words to their original stemmed version. e.g. walked -> walk. By stemming words a sentence is created that has a higher similarity value to other sentences with a different stemmed version of a word. "
   ]
  },
  {
   "cell_type": "code",
   "execution_count": 40,
   "metadata": {},
   "outputs": [],
   "source": [
    "from nltk.corpus import stopwords\n",
    "from nltk.stem.snowball import SnowballStemmer\n",
    "import nltk\n",
    "\n",
    "\n",
    "def clean_words(sentence_list):\n",
    "    sw = stopwords.words(\"english\")\n",
    "    stemmer = SnowballStemmer(\"english\")\n",
    "\n",
    "    stripped_and_stemmed_sentences_list = list()\n",
    "    for sentence in sentence_list:\n",
    "        new_sentence = ''\n",
    "        for word in sentence.split(' '):\n",
    "            if re.sub(r'\\W+', '', word) in sw:\n",
    "                continue\n",
    "            word = word.lower()\n",
    "            stemmed_word = stemmer.stem(word)\n",
    "            new_sentence = new_sentence + stemmed_word + ' '\n",
    "        stripped_and_stemmed_sentences_list.append(new_sentence)\n",
    "    return stripped_and_stemmed_sentences_list"
   ]
  },
  {
   "cell_type": "markdown",
   "metadata": {},
   "source": [
    "## Cosine similarity \n",
    "\n",
    "Cosine similarity is a way of defining the similarity between 2 sentences. It measures the angle between 2 vectors in a multidimensional space. An advantage of cosine similarity compared to eucladian space is that cosine similarity doesnt take the size of the vectors into account which the eucladian space does. "
   ]
  },
  {
   "cell_type": "code",
   "execution_count": 41,
   "metadata": {},
   "outputs": [],
   "source": [
    "def get_cosine_similarity(tfidf,index_movie):\n",
    "    return cosine_similarity(tfidf[index_movie],tfidf).flatten()"
   ]
  },
  {
   "cell_type": "markdown",
   "metadata": {},
   "source": [
    "## Named entity recognition\n",
    "\n",
    "Using named entity recognition the names get extracted from a string. Part of speech tagging is used to label the individual words in a sentence. The words that are tagged as a named entity get saved and appended together. The list of names is returned"
   ]
  },
  {
   "cell_type": "code",
   "execution_count": 42,
   "metadata": {},
   "outputs": [],
   "source": [
    "from nltk import ne_chunk, pos_tag, word_tokenize\n",
    "from nltk.tree import Tree\n",
    "\n",
    "def get_names_from_text(text):\n",
    "    chunked_text = ne_chunk(pos_tag(word_tokenize(text)))\n",
    "    prev = None\n",
    "    entire_chunk = []\n",
    "    chunk = []\n",
    "\n",
    "    for i in chunked_text:\n",
    "        if type(i) == Tree:\n",
    "            chunk.append(\" \".join([label for label, part_of_speech in i.leaves()]))\n",
    "        elif chunk:\n",
    "            named_entity = \" \".join(chunk)\n",
    "            if named_entity not in entire_chunk:\n",
    "                entire_chunk.append(named_entity)\n",
    "                chunk = []\n",
    "        else:\n",
    "            continue\n",
    "\n",
    "    if entire_chunk:\n",
    "        named_entity = \" \".join(current_chunk)\n",
    "        if named_entity not in entire_chunk:\n",
    "            entire_chunk.append(named_entity)\n",
    "\n",
    "    return entire_chunk"
   ]
  },
  {
   "cell_type": "markdown",
   "metadata": {},
   "source": [
    "Simple helper function that passes a list of possible names to the get_names_from_text function and adds the names to a list if no names are found Unkown gets added to the list"
   ]
  },
  {
   "cell_type": "code",
   "execution_count": 43,
   "metadata": {},
   "outputs": [],
   "source": [
    "def get_names_from_text_string(list_of_possible_names):\n",
    "    name_list = []\n",
    "    for name_string in list_of_possible_names:\n",
    "        name_string = name_string.replace('.','')\n",
    "        splitted_names = get_names_from_text(name_string)\n",
    "        if len(splitted_names) > 0:\n",
    "            new_name_string = ''\n",
    "            for name in splitted_names:\n",
    "                name = name.replace(' ','')\n",
    "                new_name_string = new_name_string + \" \" + name\n",
    "            name_list.append(new_name_string)\n",
    "        else: \n",
    "            name_list.append('Unknown')\n",
    "    return name_list\n"
   ]
  },
  {
   "cell_type": "markdown",
   "metadata": {},
   "source": [
    "Clean all the used features with their respective techinques. Stopword removal and stemming for sentences and named entity recognition for the names of the directors, actors and writers."
   ]
  },
  {
   "cell_type": "code",
   "execution_count": 44,
   "metadata": {},
   "outputs": [],
   "source": [
    "rated_list = clean_words(imdb_dataset.Rated.values)\n",
    "language_list = clean_words(imdb_dataset.Language.values)\n",
    "# writer_list = clean_words(imdb_dataset.Writer.values)\n",
    "plot_list = clean_words(imdb_dataset.Plot.values)\n",
    "title_list = clean_words(imdb_dataset.Title.values)\n",
    "genre_list = clean_words(imdb_dataset.Genre.values)\n",
    "# director_list = clean_words(imdb_dataset.Director.values)\n",
    "first_actor_list = clean_words(imdb_dataset.Actors.values)\n",
    "actors_list = get_names_from_text_string(imdb_dataset.Actors.values)\n",
    "director_list = get_names_from_text_string(imdb_dataset.Director.values)\n",
    "writer_list = get_names_from_text_string(imdb_dataset.Writer.values)\n"
   ]
  },
  {
   "cell_type": "markdown",
   "metadata": {},
   "source": [
    "## Bag of words and TF-IDF\n",
    "\n",
    "Bag of words and TF-IDF are ways of converting text into a vector. The bag of words model simply counts the occurance of all the words this method is very usefull for names since it doesnt give a value to a word based on the amount of times the word occures in all the names_list. The TF-IDF model is very usefull for standard sentences. The tf-idf model counts the occurences of a word and scales it based on the amount of occurencies. This means that a word like dinosaur has a higher score than the word man since dinosaur will occur alot less than the word man. Using this method each word of a sentence is scored based on the descriptive value of the word to the sentence(movie). "
   ]
  },
  {
   "cell_type": "code",
   "execution_count": 51,
   "metadata": {},
   "outputs": [],
   "source": [
    "from sklearn.feature_extraction.text import TfidfVectorizer \n",
    "from sklearn.feature_extraction.text import CountVectorizer\n",
    "\n",
    "count_vect = CountVectorizer()\n",
    "vectorizer = TfidfVectorizer()\n",
    "\n",
    "tfidf_rated = vectorizer.fit_transform(rated_list)\n",
    "tfidf_writer = vectorizer.fit_transform(writer_list)\n",
    "bow_writer = count_vect.fit_transform(writer_list)\n",
    "tfidf_language = vectorizer.fit_transform(language_list)\n",
    "tfidf_plot = vectorizer.fit_transform(plot_list)\n",
    "tfidf_title = vectorizer.fit_transform(title_list)\n",
    "tfidf_genre = vectorizer.fit_transform(genre_list)\n",
    "bow_director = count_vect.fit_transform(director_list)\n",
    "tfidf_director = vectorizer.fit_transform(director_list)\n",
    "bow_actors = count_vect.fit_transform(actors_list)\n",
    "tfidf_actors = vectorizer.fit_transform(first_actor_list)\n"
   ]
  },
  {
   "cell_type": "markdown",
   "metadata": {},
   "source": [
    "The get_movie_recommendations_for_movies adds all the similarities values together and multiply each individual score by a certain weight this weight is based on ab testing of the recommended movies. The weight implies how much a certain feature says about a movie. The plot gets weight heavier than the director since a plot of a movie is generally more important to a user than the director is. The genre weights the most since movies can have similar plots like toy story and chucky both movies are about toys comming to life but a young user who liked toy story probably doesnt want to see the horror movie chucky.\n",
    "\n",
    "When the get_cosine_similarity functions are uncommented the difference is shown between the TF-IDF model and the BOW model on the names. A movie with the same part of the name of an actor is more likely to be recommended. e.g. Robert De Niro has a high similarity with Robert Duval since the first names are the same. This is not good for the recommendation system since the first name of an actor doesn't make them the same actor. "
   ]
  },
  {
   "cell_type": "code",
   "execution_count": 53,
   "metadata": {},
   "outputs": [],
   "source": [
    "def get_movie_recommendations_for_movies(movie_indices_input,\n",
    "                                         plot_weight=2,\n",
    "                                         title_weight=1,\n",
    "                                         language_weight=0.3,\n",
    "                                         writer_weight=1,\n",
    "                                         genre_weight=3,\n",
    "                                         director_weight=0.9,\n",
    "                                         actors_weight=0.9,\n",
    "                                         rated_weight=0.9):\n",
    "    total_similarity_list = [0] * len(title_list)\n",
    "    for movie_index in movie_indices_input:\n",
    "        cosine_similarity_rated = get_cosine_similarity(tfidf_rated,movie_index)\n",
    "#         cosine_similarity_writer = get_cosine_similarity(tfidf_writer,movie_index)\n",
    "        cosine_similarity_writer = get_cosine_similarity(bow_writer,movie_index)\n",
    "        cosine_similarity_language = get_cosine_similarity(tfidf_language,movie_index)\n",
    "        cosine_similarity_plot = get_cosine_similarity(tfidf_plot,movie_index)\n",
    "        cosine_similarity_title = get_cosine_similarity(tfidf_title,movie_index)\n",
    "        cosine_similarity_genre = get_cosine_similarity(tfidf_genre,movie_index)\n",
    "#         cosine_similarity_director = get_cosine_similarity(tfidf_director,movie_index)\n",
    "        cosine_similarity_director = get_cosine_similarity(bow_director,movie_index)\n",
    "#         cosine_similarity_actors = get_cosine_similarity(tfidf_actors,movie_index)\n",
    "        cosine_similarity_actors = get_cosine_similarity(bow_actors,movie_index)\n",
    "\n",
    "\n",
    "        for i in range(len(title_list)):\n",
    "            total_similarity = 0\n",
    "            total_similarity += cosine_similarity_plot[i] * plot_weight\n",
    "            total_similarity += cosine_similarity_title[i] * title_weight\n",
    "            total_similarity += cosine_similarity_language[i] *language_weight\n",
    "            total_similarity += cosine_similarity_writer[i] * writer_weight\n",
    "            total_similarity += cosine_similarity_genre[i] * genre_weight\n",
    "            total_similarity += cosine_similarity_director[i] * director_weight\n",
    "            total_similarity += cosine_similarity_actors[i] * actors_weight\n",
    "            total_similarity += cosine_similarity_rated[i] * rated_weight\n",
    "            \n",
    "            total_similarity_list[i] += total_similarity\n",
    "    \n",
    "    return total_similarity_list"
   ]
  },
  {
   "cell_type": "markdown",
   "metadata": {},
   "source": [
    "The prep movies function is a function that returns the imdb_dataset values based on the id of a movie. If the sort parameter is passed the movies are sorted based on imdb score. "
   ]
  },
  {
   "cell_type": "code",
   "execution_count": 47,
   "metadata": {},
   "outputs": [],
   "source": [
    "def prep_movies(similar_movie_indices,sort,movie_indices):\n",
    "    movie_list = list()\n",
    "    if type(sort) != type(None):\n",
    "        for i in movie_indices:\n",
    "            movie_list.append(imdb_dataset.iloc[i])\n",
    "    for i in similar_movie_indices:\n",
    "        if i in movie_indices:\n",
    "            continue\n",
    "        movie_list.append(imdb_dataset.iloc[i])\n",
    "    if type(sort) != type(None):\n",
    "        sort = np.flip(sort)\n",
    "        new_movie_list = [None] * len(similar_movie_indices)\n",
    "        for i,s in enumerate(sort):\n",
    "            if s < len(movie_list):\n",
    "                if movie_list[s]['imdbId'] in imdb_dataset.iloc[movie_indices].imdbId.values:\n",
    "                    continue\n",
    "                new_movie_list[i] = movie_list[s]\n",
    "        movie_list = new_movie_list\n",
    "        new_holder = list()\n",
    "        for hold in movie_list: \n",
    "            if type(hold) != type(None):\n",
    "                new_movie_list.append(hold)\n",
    "        movie_list = new_movie_list\n",
    "    return movie_list"
   ]
  },
  {
   "cell_type": "markdown",
   "metadata": {},
   "source": [
    "Instantiate a variable with all the Title values sorted in alphabetical order"
   ]
  },
  {
   "cell_type": "code",
   "execution_count": 48,
   "metadata": {},
   "outputs": [],
   "source": [
    "dropdown_title = widgets.Dropdown(options = np.sort(imdb_dataset.Title))\n"
   ]
  },
  {
   "cell_type": "markdown",
   "metadata": {},
   "source": [
    "The show_dashboard function shows a dashboard to the user where he/she can select a movie Title, the amount of recommendations the user wants and if the user wants to he/she can change the weights that are used in the movie recommendations function. The dashboard is build using ipywidgets. It keeps track of the movies the user added to its watched list using the add button. When the user presses the find similarities button the N selected recommendations are shown to the user"
   ]
  },
  {
   "cell_type": "code",
   "execution_count": 49,
   "metadata": {},
   "outputs": [],
   "source": [
    "import ipywidgets as ipy\n",
    "\n",
    "def show_dashboard():\n",
    "    movie_indices = list()\n",
    "    out = Output()\n",
    "    out2 = Output()\n",
    "\n",
    "    def btn_eventhandler(obj):\n",
    "        with out:\n",
    "            clear_output()\n",
    "        n_similarities = int(input_widget2.value) + len(movie_indices) + 1\n",
    "        total_similarity_list = get_movie_recommendations_for_movies(movie_indices,\n",
    "                                                                     genre_weight=sl.value,\n",
    "                                                                     plot_weight=sl2.value,\n",
    "                                                                     title_weight=sl3.value,\n",
    "                                                                     writer_weight=sl4.value,\n",
    "                                                                     director_weight=sl5.value,\n",
    "                                                                     actors_weight=sl6.value)\n",
    "\n",
    "        similar_movie_indices = np.asarray(total_similarity_list).argsort()[:-n_similarities:-1]\n",
    "        sort = None\n",
    "        if checkbox.value:\n",
    "            rating_values = imdb_dataset.loc[similar_movie_indices].imdbRating.astype(float)\n",
    "            sort = np.argsort(rating_values.values)\n",
    "\n",
    "        with out:\n",
    "            print(\"These are your recommendations\")\n",
    "            display(HTML(movie_display.show(prep_movies(similar_movie_indices,sort,movie_indices))))\n",
    "\n",
    "    def btn_eventhandler2(obj):\n",
    "        try: \n",
    "            with out2:\n",
    "                clear_output()\n",
    "            movie_indices.append(imdb_dataset.index[imdb_dataset['Title'] == dropdown_title.value].tolist()[0])\n",
    "            with out2:\n",
    "                print(\"You selected these movie's\")\n",
    "                selected_movies = list()\n",
    "                for i in movie_indices:\n",
    "                    selected_movies.append(imdb_dataset.loc[i])\n",
    "                display(HTML(movie_display.show(selected_movies)))\n",
    "        except:\n",
    "            print(\"Please insert an int\")\n",
    "\n",
    "    def btn_eventhandler3(obj):\n",
    "        movie_indices.clear()\n",
    "        sl.value = 3\n",
    "        sl2.value = 2\n",
    "        sl3.value = 1\n",
    "        sl4.value = 1\n",
    "        sl5.value = 0.9\n",
    "        sl6.value = 0.9\n",
    "        sl7.value = 0.3\n",
    "        sl8.value = 0.9\n",
    "\n",
    "        try: \n",
    "            with out2:\n",
    "                clear_output()\n",
    "            with out: \n",
    "                clear_output()\n",
    "        except Exception as e:\n",
    "            print(e)\n",
    "\n",
    "    btn = widgets.Button(description='Find Similarities')    \n",
    "    btn2 = widgets.Button(description='Add')\n",
    "    btn3 = widgets.Button(description='Clear')    \n",
    "\n",
    "    btn.on_click(btn_eventhandler)\n",
    "    btn2.on_click(btn_eventhandler2)\n",
    "    btn3.on_click(btn_eventhandler3)\n",
    "\n",
    "    input_widget2 = widgets.FloatText(\n",
    "        value=3,\n",
    "        description='N similar:',\n",
    "        disabled=False\n",
    "    )\n",
    "\n",
    "    sl=widgets.FloatSlider(description=\"Genre\",\n",
    "                           min=0, \n",
    "                           max=10.0, \n",
    "                           step=0.1,\n",
    "                           value=3,\n",
    "                           orientation='vertical',\n",
    "                           continuous_update=False)\n",
    "    sl2=widgets.FloatSlider(description=\"Plot\",\n",
    "                           min=0, \n",
    "                           max=10.0, \n",
    "                           step=0.1,\n",
    "                           value=2,\n",
    "                           orientation='vertical',\n",
    "                           continuous_update=False)\n",
    "    sl3=widgets.FloatSlider(description=\"Title\",\n",
    "                           min=0, \n",
    "                           max=10.0, \n",
    "                           step=0.1,\n",
    "                           value=1,\n",
    "                           orientation='vertical',\n",
    "                           continuous_update=False)\n",
    "    sl4=widgets.FloatSlider(description=\"Writer\",\n",
    "                           min=0, \n",
    "                           max=10.0, \n",
    "                           step=0.1,\n",
    "                           value=1,\n",
    "                           orientation='vertical',\n",
    "                           continuous_update=False)\n",
    "    sl5=widgets.FloatSlider(description=\"Director\",\n",
    "                           min=0, \n",
    "                           max=10.0, \n",
    "                           step=0.1,\n",
    "                           value=0.9,\n",
    "                           orientation='vertical',\n",
    "                           continuous_update=False)\n",
    "    sl6=widgets.FloatSlider(description=\"Actor\",\n",
    "                           min=0, \n",
    "                           max=10.0, \n",
    "                           step=0.1,\n",
    "                           value=0.9,\n",
    "                           orientation='vertical',\n",
    "                           continuous_update=False)\n",
    "    sl7=widgets.FloatSlider(description=\"Language\",\n",
    "                           min=0, \n",
    "                           max=10.0, \n",
    "                           step=0.1,\n",
    "                           value=0.3,\n",
    "                           orientation='vertical',\n",
    "                           continuous_update=False)\n",
    "    sl8=widgets.FloatSlider(description=\"Rated\",\n",
    "                           min=0, \n",
    "                           max=10.0, \n",
    "                           step=0.1,\n",
    "                           value=0.9,\n",
    "                           orientation='vertical',\n",
    "                           continuous_update=False)\n",
    "    checkbox = widgets.Checkbox(\n",
    "               description='Sort on rating',)\n",
    "\n",
    "    \n",
    "    print(\"Select movie title\")\n",
    "    widget_list = ipy.HBox(children=(sl,sl2,sl3,sl4,sl5,sl6,sl7,sl8), layout = ipy.Layout())\n",
    "\n",
    "    display(dropdown_title)\n",
    "    display(input_widget2)\n",
    "    display(checkbox)\n",
    "    display(widget_list)\n",
    "    display(btn2)\n",
    "    display(btn)\n",
    "    display(btn3)\n",
    "    display(out2)\n",
    "    display(out)\n",
    "\n"
   ]
  },
  {
   "cell_type": "code",
   "execution_count": 50,
   "metadata": {
    "scrolled": false
   },
   "outputs": [
    {
     "name": "stdout",
     "output_type": "stream",
     "text": [
      "Select movie title\n"
     ]
    },
    {
     "data": {
      "application/vnd.jupyter.widget-view+json": {
       "model_id": "67c04242aedd4257a4dc4d67f084391c",
       "version_major": 2,
       "version_minor": 0
      },
      "text/plain": [
       "Dropdown(options=('#DUPE#', '#DUPE#', '#DUPE#', '$9.99', \"'Hellboy': The Seeds of Creation\", \"'I Know Where I'…"
      ]
     },
     "metadata": {},
     "output_type": "display_data"
    },
    {
     "data": {
      "application/vnd.jupyter.widget-view+json": {
       "model_id": "551bc266996845a1afba5111bfab6458",
       "version_major": 2,
       "version_minor": 0
      },
      "text/plain": [
       "FloatText(value=3.0, description='N similar:')"
      ]
     },
     "metadata": {},
     "output_type": "display_data"
    },
    {
     "data": {
      "application/vnd.jupyter.widget-view+json": {
       "model_id": "f79cb3da52b04d5fa973acb4f2d2b8ba",
       "version_major": 2,
       "version_minor": 0
      },
      "text/plain": [
       "Checkbox(value=False, description='Sort on rating')"
      ]
     },
     "metadata": {},
     "output_type": "display_data"
    },
    {
     "data": {
      "application/vnd.jupyter.widget-view+json": {
       "model_id": "ee33458cf1674960a963a5e5e6dbc3d0",
       "version_major": 2,
       "version_minor": 0
      },
      "text/plain": [
       "HBox(children=(FloatSlider(value=5.0, continuous_update=False, description='Genre', max=10.0, orientation='ver…"
      ]
     },
     "metadata": {},
     "output_type": "display_data"
    },
    {
     "data": {
      "application/vnd.jupyter.widget-view+json": {
       "model_id": "591af9cabcc64fa9b8f515a6bc3faefb",
       "version_major": 2,
       "version_minor": 0
      },
      "text/plain": [
       "Button(description='Add', style=ButtonStyle())"
      ]
     },
     "metadata": {},
     "output_type": "display_data"
    },
    {
     "data": {
      "application/vnd.jupyter.widget-view+json": {
       "model_id": "f36cd9a63ec24faf91e67f516f00e70b",
       "version_major": 2,
       "version_minor": 0
      },
      "text/plain": [
       "Button(description='Find Similarities', style=ButtonStyle())"
      ]
     },
     "metadata": {},
     "output_type": "display_data"
    },
    {
     "data": {
      "application/vnd.jupyter.widget-view+json": {
       "model_id": "00d513329b054f638d8fc0f23ae5f6d5",
       "version_major": 2,
       "version_minor": 0
      },
      "text/plain": [
       "Button(description='Clear', style=ButtonStyle())"
      ]
     },
     "metadata": {},
     "output_type": "display_data"
    },
    {
     "data": {
      "application/vnd.jupyter.widget-view+json": {
       "model_id": "bda37a0885f04e5cb66e015ccc3ec1d8",
       "version_major": 2,
       "version_minor": 0
      },
      "text/plain": [
       "Output()"
      ]
     },
     "metadata": {},
     "output_type": "display_data"
    },
    {
     "data": {
      "application/vnd.jupyter.widget-view+json": {
       "model_id": "8b4b301c81694ed793b6d8cd81a140b3",
       "version_major": 2,
       "version_minor": 0
      },
      "text/plain": [
       "Output()"
      ]
     },
     "metadata": {},
     "output_type": "display_data"
    }
   ],
   "source": [
    "show_dashboard()"
   ]
  },
  {
   "cell_type": "code",
   "execution_count": null,
   "metadata": {},
   "outputs": [],
   "source": []
  }
 ],
 "metadata": {
  "kernelspec": {
   "display_name": "Python 3",
   "language": "python",
   "name": "python3"
  },
  "language_info": {
   "codemirror_mode": {
    "name": "ipython",
    "version": 3
   },
   "file_extension": ".py",
   "mimetype": "text/x-python",
   "name": "python",
   "nbconvert_exporter": "python",
   "pygments_lexer": "ipython3",
   "version": "3.6.5"
  },
  "toc": {
   "base_numbering": 1,
   "nav_menu": {},
   "number_sections": true,
   "sideBar": true,
   "skip_h1_title": false,
   "title_cell": "Table of Contents",
   "title_sidebar": "Contents",
   "toc_cell": false,
   "toc_position": {},
   "toc_section_display": true,
   "toc_window_display": false
  },
  "varInspector": {
   "cols": {
    "lenName": 16,
    "lenType": 16,
    "lenVar": 40
   },
   "kernels_config": {
    "python": {
     "delete_cmd_postfix": "",
     "delete_cmd_prefix": "del ",
     "library": "var_list.py",
     "varRefreshCmd": "print(var_dic_list())"
    },
    "r": {
     "delete_cmd_postfix": ") ",
     "delete_cmd_prefix": "rm(",
     "library": "var_list.r",
     "varRefreshCmd": "cat(var_dic_list()) "
    }
   },
   "types_to_exclude": [
    "module",
    "function",
    "builtin_function_or_method",
    "instance",
    "_Feature"
   ],
   "window_display": false
  }
 },
 "nbformat": 4,
 "nbformat_minor": 2
}
